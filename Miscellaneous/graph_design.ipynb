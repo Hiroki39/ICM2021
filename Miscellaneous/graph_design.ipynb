{
 "cells": [
  {
   "cell_type": "code",
   "execution_count": null,
   "id": "typical-photography",
   "metadata": {},
   "outputs": [],
   "source": [
    "import networkx as nx\n",
    "import matplotlib.pyplot as plt\n",
    "import pandas as pd\n",
    "import math"
   ]
  },
  {
   "cell_type": "code",
   "execution_count": null,
   "id": "happy-harvest",
   "metadata": {},
   "outputs": [],
   "source": [
    "def deleteDuplicatedElementFromList(list):\n",
    "    list.sort();\n",
    "    length = len(list)\n",
    "    lastItem = list[length - 1]\n",
    "    for i in range(length - 2,-1,-1):\n",
    "        currentItem = list[i]\n",
    "        if currentItem == lastItem:\n",
    "            list.remove(currentItem)\n",
    "        else:\n",
    "            lastItem = currentItem\n",
    "    return list"
   ]
  },
  {
   "cell_type": "code",
   "execution_count": null,
   "id": "stupid-stationery",
   "metadata": {},
   "outputs": [],
   "source": [
    "def open_txt(filepath):\n",
    "    f = open(filepath, 'r')\n",
    "    a = f.read()\n",
    "    the_dict = eval(a)\n",
    "    f.close()\n",
    "    return the_dict"
   ]
  },
  {
   "cell_type": "code",
   "execution_count": null,
   "id": "written-lesbian",
   "metadata": {},
   "outputs": [],
   "source": [
    "the_dict = open_txt('net_dict_influ_follow.txt')\n",
    "the_dict2 = open_txt('net_dict_follow_influ.txt')\n",
    "\n",
    "allList = []\n",
    "for key in the_dict.keys():\n",
    "    allList.append(key)\n",
    "for value in the_dict.values():\n",
    "    for i in value:\n",
    "        allList.append(i)\n",
    "allList = deleteDuplicatedElementFromList(allList)\n",
    "\n",
    "G = nx.DiGraph()\n",
    "for artist in allList:\n",
    "    G.add_node(artist)\n",
    "\n",
    "df2 = pd.DataFrame(columns = ['Influencer', 'Follower', 'PA'])\n",
    "\n",
    "for i in the_dict2.keys():\n",
    "    try:\n",
    "        i_follow = len(the_dict[i])\n",
    "    except KeyError:\n",
    "        i_follow = 0\n",
    "\n",
    "    for influence_i in the_dict2[i]:\n",
    "        try:\n",
    "            influence_i_fellow = len(the_dict[influence_i])\n",
    "        except KeyError:\n",
    "            influence_i_fellow = 0\n",
    "\n",
    "        df2 = df2.append({'Influencer': influence_i, 'Follower': i, 'PA': i_follow * influence_i_fellow}, ignore_index = True)\n",
    "        print(influence_i, i, i_follow * influence_i_fellow)\n",
    "\n",
    "df2 = df2.sort_values(by = ['PA'], ascending = False)"
   ]
  },
  {
   "cell_type": "code",
   "execution_count": null,
   "id": "confused-syntax",
   "metadata": {},
   "outputs": [],
   "source": [
    "df2.head(40)"
   ]
  },
  {
   "cell_type": "code",
   "execution_count": null,
   "id": "bright-bridge",
   "metadata": {},
   "outputs": [],
   "source": [
    "for influencer in the_dict.keys():\n",
    "    followers = the_dict[influencer]\n",
    "    for theFollower in followers:\n",
    "        for i in range(len(df2)):\n",
    "            if df2.at[i,'Influencer'] == influencer and df2.at[i, 'Follower'] == theFollower:\n",
    "                theWeight = df2.at[i, 'PA']\n",
    "        print(theWeight+1)\n",
    "        G.add_edge(influencer, theFollower, weight = math.log(theWeight+1))\n",
    "\n",
    "print(nx.info(G))"
   ]
  },
  {
   "cell_type": "code",
   "execution_count": null,
   "id": "potential-rebate",
   "metadata": {},
   "outputs": [],
   "source": [
    "theDict = nx.algorithms.centrality.betweenness_centrality(G)\n",
    "df = pd.DataFrame.from_dict(theDict, orient = 'index', columns = ['Betweenness'])\n",
    "df = df.sort_values(by = ['Betweenness'], ascending = False)\n",
    "print(df.head(40))"
   ]
  },
  {
   "cell_type": "code",
   "execution_count": null,
   "id": "unknown-logic",
   "metadata": {},
   "outputs": [],
   "source": [
    "G.edges(data = True)"
   ]
  },
  {
   "cell_type": "code",
   "execution_count": null,
   "id": "furnished-feelings",
   "metadata": {},
   "outputs": [],
   "source": []
  }
 ],
 "metadata": {
  "kernelspec": {
   "display_name": "Python 3",
   "language": "python",
   "name": "python3"
  },
  "language_info": {
   "codemirror_mode": {
    "name": "ipython",
    "version": 3
   },
   "file_extension": ".py",
   "mimetype": "text/x-python",
   "name": "python",
   "nbconvert_exporter": "python",
   "pygments_lexer": "ipython3",
   "version": "3.7.6"
  }
 },
 "nbformat": 4,
 "nbformat_minor": 5
}
