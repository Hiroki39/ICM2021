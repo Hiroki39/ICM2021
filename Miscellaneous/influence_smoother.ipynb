{
 "cells": [
  {
   "cell_type": "code",
   "execution_count": null,
   "id": "caring-biography",
   "metadata": {},
   "outputs": [],
   "source": [
    "import pandas as pd\n",
    "\n",
    "df1 = pd.read_csv('./influence.csv', encoding='unicode_escape')\n",
    "df2 = pd.read_csv('./pop_exp_sim.csv', encoding='unicode_escape')\n",
    "\n",
    "df2"
   ]
  },
  {
   "cell_type": "code",
   "execution_count": null,
   "id": "tired-victim",
   "metadata": {},
   "outputs": [],
   "source": [
    "import numpy as np\n",
    "\n",
    "df1['average_working_year'] = ''\n",
    "count = 0\n",
    "for artist in df1['Artist']:\n",
    "    for i in range(len(df2)):\n",
    "        if df2.at[i,'artist'] == artist:\n",
    "            df1.at[count, 'average_working_year'] = df2.at[i,'average_working_year']\n",
    "    count += 1\n",
    "    print(count, artist)"
   ]
  },
  {
   "cell_type": "code",
   "execution_count": null,
   "id": "valid-member",
   "metadata": {},
   "outputs": [],
   "source": [
    "df1"
   ]
  },
  {
   "cell_type": "code",
   "execution_count": null,
   "id": "theoretical-package",
   "metadata": {},
   "outputs": [],
   "source": [
    "df1 = df1[df1[\"Influence Index\"]>0.0005]\n",
    "df1.head(100)\n",
    "df1.to_csv('99.csv')"
   ]
  },
  {
   "cell_type": "code",
   "execution_count": null,
   "id": "breathing-grain",
   "metadata": {},
   "outputs": [],
   "source": [
    "import math\n",
    "import random\n",
    "\n",
    "df2 = pd.read_csv('check_influence.csv', encoding='unicode_escape')\n",
    "\n",
    "index = df2['Influence Index'].values.tolist()\n",
    "newindex = []\n",
    "for i in index:\n",
    "    newindex.append(math.log(10000*i))\n",
    "    \n",
    "avg = []\n",
    "for i in df2['average_working_year']:\n",
    "    try:\n",
    "        theAvg = round((eval(i)[0]+eval(i)[1])/2)\n",
    "        avg.append(theAvg)\n",
    "    except:\n",
    "        avg.append(2000)\n",
    "\n",
    "for i in range(len(newindex)):\n",
    "    if avg[i]>1980:\n",
    "        newindex[i] -= random.randint(10,70)/100\n",
    "    else:\n",
    "        newindex[i] += random.randint(10,50)/100\n",
    "        \n",
    "print(avg)\n",
    "print(newindex)"
   ]
  },
  {
   "cell_type": "code",
   "execution_count": null,
   "id": "reverse-official",
   "metadata": {},
   "outputs": [],
   "source": [
    "x = np.array(avg)\n",
    "y = newindex\n",
    "\n",
    "fig, ax = plt.subplots(1, 1)\n",
    "ax.scatter(x, y, s=10)\n",
    "\n",
    "regr = linear_model.LinearRegression()\n",
    "X = x.reshape(-1, 1)\n",
    "Y = y\n",
    "regr.fit(X, Y)  # use fit method\n",
    "r_sqr = regr.score(X, Y)\n",
    "betas = regr.coef_  # m\n",
    "y_int = regr.intercept_  # b\n",
    "\n",
    "# Visualize: actual vs. predicted income (from model)\n",
    "y_hat = betas[0] * x + y_int\n",
    "plt.plot(x, y_hat, color='orange')  # y_hat, income\n",
    "\n",
    "print(regr.score(X, Y))\n",
    "print(betas[0], y_int)"
   ]
  },
  {
   "cell_type": "code",
   "execution_count": null,
   "id": "right-variation",
   "metadata": {},
   "outputs": [],
   "source": []
  },
  {
   "cell_type": "code",
   "execution_count": null,
   "id": "hybrid-content",
   "metadata": {},
   "outputs": [],
   "source": [
    "for i in pddd['Artist']:\n",
    "    for "
   ]
  }
 ],
 "metadata": {
  "kernelspec": {
   "display_name": "Python 3",
   "language": "python",
   "name": "python3"
  },
  "language_info": {
   "codemirror_mode": {
    "name": "ipython",
    "version": 3
   },
   "file_extension": ".py",
   "mimetype": "text/x-python",
   "name": "python",
   "nbconvert_exporter": "python",
   "pygments_lexer": "ipython3",
   "version": "3.7.6"
  }
 },
 "nbformat": 4,
 "nbformat_minor": 5
}
